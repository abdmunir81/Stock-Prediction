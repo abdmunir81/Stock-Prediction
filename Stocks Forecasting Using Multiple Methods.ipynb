{
  "nbformat": 4,
  "nbformat_minor": 0,
  "metadata": {
    "colab": {
      "name": "Untitled0.ipynb",
      "version": "0.3.2",
      "provenance": []
    },
    "kernelspec": {
      "name": "python3",
      "display_name": "Python 3"
    }
  },
  "cells": [
    {
      "cell_type": "markdown",
      "metadata": {
        "id": "Lw9oCmvDSV1o",
        "colab_type": "text"
      },
      "source": [
        "## Loading YahooFinance Dataset\n",
        "Pandas web data reader is an extension of pandas library to communicate with most updated financial data.\n",
        "We will extract Apple Stocks Price using the following codes:"
      ]
    },
    {
      "cell_type": "code",
      "metadata": {
        "id": "eFBoGEscSS80",
        "colab_type": "code",
        "colab": {
          "base_uri": "https://localhost:8080/",
          "height": 235
        },
        "outputId": "fa6d0ccb-3f8d-42f3-fa23-5609a8322eec"
      },
      "source": [
        "import sys\n",
        "import pandas as pd\n",
        "import datetime\n",
        "\n",
        "from pandas import Series, DataFrame\n",
        "import pandas_datareader.data as web\n",
        "\n",
        "start = datetime.datetime(2010, 1, 1)\n",
        "end = datetime.datetime.now()\n",
        "\n",
        "#df = pd.read_csv('AAPL.csv')\n",
        "\n",
        "df = web.DataReader(\"AAPL\", 'yahoo', start, end)\n",
        "df.tail()"
      ],
      "execution_count": 1,
      "outputs": [
        {
          "output_type": "execute_result",
          "data": {
            "text/html": [
              "<div>\n",
              "<style scoped>\n",
              "    .dataframe tbody tr th:only-of-type {\n",
              "        vertical-align: middle;\n",
              "    }\n",
              "\n",
              "    .dataframe tbody tr th {\n",
              "        vertical-align: top;\n",
              "    }\n",
              "\n",
              "    .dataframe thead th {\n",
              "        text-align: right;\n",
              "    }\n",
              "</style>\n",
              "<table border=\"1\" class=\"dataframe\">\n",
              "  <thead>\n",
              "    <tr style=\"text-align: right;\">\n",
              "      <th></th>\n",
              "      <th>High</th>\n",
              "      <th>Low</th>\n",
              "      <th>Open</th>\n",
              "      <th>Close</th>\n",
              "      <th>Volume</th>\n",
              "      <th>Adj Close</th>\n",
              "    </tr>\n",
              "    <tr>\n",
              "      <th>Date</th>\n",
              "      <th></th>\n",
              "      <th></th>\n",
              "      <th></th>\n",
              "      <th></th>\n",
              "      <th></th>\n",
              "      <th></th>\n",
              "    </tr>\n",
              "  </thead>\n",
              "  <tbody>\n",
              "    <tr>\n",
              "      <th>2019-09-09</th>\n",
              "      <td>216.440002</td>\n",
              "      <td>211.070007</td>\n",
              "      <td>214.839996</td>\n",
              "      <td>214.169998</td>\n",
              "      <td>27309400.0</td>\n",
              "      <td>214.169998</td>\n",
              "    </tr>\n",
              "    <tr>\n",
              "      <th>2019-09-10</th>\n",
              "      <td>216.779999</td>\n",
              "      <td>211.710007</td>\n",
              "      <td>213.860001</td>\n",
              "      <td>216.699997</td>\n",
              "      <td>31777900.0</td>\n",
              "      <td>216.699997</td>\n",
              "    </tr>\n",
              "    <tr>\n",
              "      <th>2019-09-11</th>\n",
              "      <td>223.710007</td>\n",
              "      <td>217.729996</td>\n",
              "      <td>218.070007</td>\n",
              "      <td>223.589996</td>\n",
              "      <td>44289600.0</td>\n",
              "      <td>223.589996</td>\n",
              "    </tr>\n",
              "    <tr>\n",
              "      <th>2019-09-12</th>\n",
              "      <td>226.419998</td>\n",
              "      <td>222.860001</td>\n",
              "      <td>224.800003</td>\n",
              "      <td>223.089996</td>\n",
              "      <td>32226700.0</td>\n",
              "      <td>223.089996</td>\n",
              "    </tr>\n",
              "    <tr>\n",
              "      <th>2019-09-13</th>\n",
              "      <td>220.789993</td>\n",
              "      <td>217.020004</td>\n",
              "      <td>220.000000</td>\n",
              "      <td>218.750000</td>\n",
              "      <td>39363200.0</td>\n",
              "      <td>218.750000</td>\n",
              "    </tr>\n",
              "  </tbody>\n",
              "</table>\n",
              "</div>"
            ],
            "text/plain": [
              "                  High         Low  ...      Volume   Adj Close\n",
              "Date                                ...                        \n",
              "2019-09-09  216.440002  211.070007  ...  27309400.0  214.169998\n",
              "2019-09-10  216.779999  211.710007  ...  31777900.0  216.699997\n",
              "2019-09-11  223.710007  217.729996  ...  44289600.0  223.589996\n",
              "2019-09-12  226.419998  222.860001  ...  32226700.0  223.089996\n",
              "2019-09-13  220.789993  217.020004  ...  39363200.0  218.750000\n",
              "\n",
              "[5 rows x 6 columns]"
            ]
          },
          "metadata": {
            "tags": []
          },
          "execution_count": 1
        }
      ]
    },
    {
      "cell_type": "code",
      "metadata": {
        "id": "KoOU8TYGFaNU",
        "colab_type": "code",
        "colab": {
          "base_uri": "https://localhost:8080/",
          "height": 34
        },
        "outputId": "76c33fd3-2325-4964-f3fd-83546b484be9"
      },
      "source": [
        "df.shape"
      ],
      "execution_count": 2,
      "outputs": [
        {
          "output_type": "execute_result",
          "data": {
            "text/plain": [
              "(2441, 6)"
            ]
          },
          "metadata": {
            "tags": []
          },
          "execution_count": 2
        }
      ]
    },
    {
      "cell_type": "markdown",
      "metadata": {
        "id": "iCPJHJbeIvqu",
        "colab_type": "text"
      },
      "source": [
        "## Exploring the data"
      ]
    },
    {
      "cell_type": "code",
      "metadata": {
        "id": "dUFvxTvrI3xC",
        "colab_type": "code",
        "colab": {
          "base_uri": "https://localhost:8080/",
          "height": 221
        },
        "outputId": "1411e7f7-1ff3-48eb-f62e-5ce09466703d"
      },
      "source": [
        "close_px = df['Adj Close']\n",
        "mavg = close_px.rolling(window=100).mean()\n",
        "mavg.tail(10)"
      ],
      "execution_count": 3,
      "outputs": [
        {
          "output_type": "execute_result",
          "data": {
            "text/plain": [
              "Date\n",
              "2019-08-30    198.498685\n",
              "2019-09-03    198.564745\n",
              "2019-09-04    198.682279\n",
              "2019-09-05    198.841507\n",
              "2019-09-06    198.996962\n",
              "2019-09-09    199.161318\n",
              "2019-09-10    199.312470\n",
              "2019-09-11    199.525277\n",
              "2019-09-12    199.726435\n",
              "2019-09-13    199.854917\n",
              "Name: Adj Close, dtype: float64"
            ]
          },
          "metadata": {
            "tags": []
          },
          "execution_count": 3
        }
      ]
    },
    {
      "cell_type": "markdown",
      "metadata": {
        "id": "N-mOEyWHSquh",
        "colab_type": "text"
      },
      "source": [
        "## Exploring Rolling Mean and Return Rate of Stocks\n",
        "In this analysis, we analyse stocks using two key measurements: Rolling Mean and Return Rate.\n",
        "\n",
        "### Rolling Mean (Moving Average) — to determine trend\n",
        "Rolling mean/Moving Average (MA) smooths out price data by creating a constantly updated average price. This is useful to cut down “noise” in our price chart. Furthermore, this Moving Average could act as “Resistance” meaning from the downtrend and uptrend of stocks you could expect it will follow the trend and less likely to deviate outside its resistance point."
      ]
    },
    {
      "cell_type": "code",
      "metadata": {
        "id": "IiONEZ3NJE-M",
        "colab_type": "code",
        "colab": {
          "base_uri": "https://localhost:8080/",
          "height": 439
        },
        "outputId": "64276cfa-17ac-400f-abfe-1f475aecc266"
      },
      "source": [
        "%matplotlib inline\n",
        "import matplotlib.pyplot as plt\n",
        "from matplotlib import style\n",
        "\n",
        "# Adjusting the size of matplotlib\n",
        "import matplotlib as mpl\n",
        "mpl.rc('figure', figsize=(8, 7))\n",
        "mpl.__version__\n",
        "\n",
        "# Adjusting the style of matplotlib\n",
        "style.use('ggplot')\n",
        "\n",
        "close_px.plot(label='AAPL')\n",
        "mavg.plot(label='mavg')\n",
        "plt.legend()"
      ],
      "execution_count": 4,
      "outputs": [
        {
          "output_type": "execute_result",
          "data": {
            "text/plain": [
              "<matplotlib.legend.Legend at 0x7ff1f73b6240>"
            ]
          },
          "metadata": {
            "tags": []
          },
          "execution_count": 4
        },
        {
          "output_type": "display_data",
          "data": {
            "image/png": "[encoded data removed]",
            "text/plain": [
              "<Figure size 576x504 with 1 Axes>"
            ]
          },
          "metadata": {
            "tags": []
          }
        }
      ]
    },
    {
      "cell_type": "markdown",
      "metadata": {
        "id": "DAJ-f7C9JSwi",
        "colab_type": "text"
      },
      "source": [
        "## Predicting the stocks price\n",
        "\n",
        "To predict the return of the stocks in the next period - Prediction analysis\n",
        "\n",
        "* Simple Linear Analysis\n",
        "* Quadratic Linear Analysis (QDA)\n",
        "* K Nearest Neighbor (KNN)\n",
        "\n",
        "But first, extracting the necessary columns first from df:\n",
        "\n",
        "* Adj Close\n",
        "* Adj Volume\n",
        "* High Low Percentage\n",
        "* Percent Change"
      ]
    },
    {
      "cell_type": "code",
      "metadata": {
        "id": "S7bAM8uqJJSY",
        "colab_type": "code",
        "colab": {
          "base_uri": "https://localhost:8080/",
          "height": 235
        },
        "outputId": "84f0a9c5-0647-4377-91f1-3aae97be4716"
      },
      "source": [
        "dfreg = df.loc[:,['Adj Close','Volume']]\n",
        "dfreg['HL_PCT'] = (df['High'] - df['Low']) / df['Close'] * 100.0\n",
        "dfreg['PCT_change'] = (df['Close'] - df['Open']) / df['Open'] * 100.0\n",
        "dfreg.head()"
      ],
      "execution_count": 5,
      "outputs": [
        {
          "output_type": "execute_result",
          "data": {
            "text/html": [
              "<div>\n",
              "<style scoped>\n",
              "    .dataframe tbody tr th:only-of-type {\n",
              "        vertical-align: middle;\n",
              "    }\n",
              "\n",
              "    .dataframe tbody tr th {\n",
              "        vertical-align: top;\n",
              "    }\n",
              "\n",
              "    .dataframe thead th {\n",
              "        text-align: right;\n",
              "    }\n",
              "</style>\n",
              "<table border=\"1\" class=\"dataframe\">\n",
              "  <thead>\n",
              "    <tr style=\"text-align: right;\">\n",
              "      <th></th>\n",
              "      <th>Adj Close</th>\n",
              "      <th>Volume</th>\n",
              "      <th>HL_PCT</th>\n",
              "      <th>PCT_change</th>\n",
              "    </tr>\n",
              "    <tr>\n",
              "      <th>Date</th>\n",
              "      <th></th>\n",
              "      <th></th>\n",
              "      <th></th>\n",
              "      <th></th>\n",
              "    </tr>\n",
              "  </thead>\n",
              "  <tbody>\n",
              "    <tr>\n",
              "      <th>2010-01-04</th>\n",
              "      <td>26.681330</td>\n",
              "      <td>123432400.0</td>\n",
              "      <td>0.990606</td>\n",
              "      <td>0.271752</td>\n",
              "    </tr>\n",
              "    <tr>\n",
              "      <th>2010-01-05</th>\n",
              "      <td>26.727465</td>\n",
              "      <td>150476200.0</td>\n",
              "      <td>1.091520</td>\n",
              "      <td>-0.102519</td>\n",
              "    </tr>\n",
              "    <tr>\n",
              "      <th>2010-01-06</th>\n",
              "      <td>26.302330</td>\n",
              "      <td>138040000.0</td>\n",
              "      <td>2.123523</td>\n",
              "      <td>-1.590633</td>\n",
              "    </tr>\n",
              "    <tr>\n",
              "      <th>2010-01-07</th>\n",
              "      <td>26.253704</td>\n",
              "      <td>119282800.0</td>\n",
              "      <td>1.400893</td>\n",
              "      <td>-0.552538</td>\n",
              "    </tr>\n",
              "    <tr>\n",
              "      <th>2010-01-08</th>\n",
              "      <td>26.428249</td>\n",
              "      <td>111902700.0</td>\n",
              "      <td>1.386924</td>\n",
              "      <td>0.798864</td>\n",
              "    </tr>\n",
              "  </tbody>\n",
              "</table>\n",
              "</div>"
            ],
            "text/plain": [
              "            Adj Close       Volume    HL_PCT  PCT_change\n",
              "Date                                                    \n",
              "2010-01-04  26.681330  123432400.0  0.990606    0.271752\n",
              "2010-01-05  26.727465  150476200.0  1.091520   -0.102519\n",
              "2010-01-06  26.302330  138040000.0  2.123523   -1.590633\n",
              "2010-01-07  26.253704  119282800.0  1.400893   -0.552538\n",
              "2010-01-08  26.428249  111902700.0  1.386924    0.798864"
            ]
          },
          "metadata": {
            "tags": []
          },
          "execution_count": 5
        }
      ]
    },
    {
      "cell_type": "markdown",
      "metadata": {
        "id": "imJ41KpsNube",
        "colab_type": "text"
      },
      "source": [
        "## Pre-processing & Cross Validation\n",
        "Lets clean and process the data using the following steps before putting them into the prediction models:\n",
        "\n",
        "* Drop missing value\n",
        "* Separating the label here, we want to predict the AdjClose\n",
        "* Scale the X so that everyone can have the same distribution for linear regression\n",
        "* Finally We want to find Data Series of late X and early X (train) for model generation and evaluation\n",
        "* Separate label and identify it as y\n",
        "* Separation of training and testing of model by cross validation train test split\n",
        "* Please refer the preparation codes below."
      ]
    },
    {
      "cell_type": "code",
      "metadata": {
        "id": "ClYiDKQvNqQ2",
        "colab_type": "code",
        "colab": {}
      },
      "source": [
        "import math\n",
        "import numpy as np\n",
        "from sklearn import preprocessing\n",
        "\n",
        "# Drop missing value\n",
        "dfreg.fillna(value=-99999, inplace=True)\n",
        "\n",
        "# We want to separate 1 percent of the data to forecast\n",
        "forecast_out = int(math.ceil(0.01 * len(dfreg)))\n",
        "\n",
        "# Separating the label here, we want to predict the AdjClose\n",
        "forecast_col = 'Adj Close'\n",
        "dfreg['label'] = dfreg[forecast_col].shift(-forecast_out)\n",
        "X = np.array(dfreg.drop(['label'], 1))\n",
        "\n",
        "# Scale the X so that everyone can have the same distribution for linear regression\n",
        "X = preprocessing.scale(X)\n",
        "\n",
        "# Finally We want to find Data Series of late X and early X (train) for model generation and evaluation\n",
        "X_lately = X[-forecast_out:]\n",
        "X = X[:-forecast_out]\n",
        "\n",
        "# Separate label and identify it as y\n",
        "y = np.array(dfreg['label'])\n",
        "y = y[:-forecast_out]"
      ],
      "execution_count": 0,
      "outputs": []
    },
    {
      "cell_type": "markdown",
      "metadata": {
        "id": "IPaAdHlbPdFQ",
        "colab_type": "text"
      },
      "source": [
        "### Load multiple libraries related to models"
      ]
    },
    {
      "cell_type": "code",
      "metadata": {
        "id": "iimR_uZ4Pkf2",
        "colab_type": "code",
        "colab": {}
      },
      "source": [
        "from sklearn.linear_model import LinearRegression\n",
        "from sklearn.neighbors import KNeighborsRegressor\n",
        "\n",
        "from sklearn.linear_model import Ridge\n",
        "from sklearn.preprocessing import PolynomialFeatures\n",
        "from sklearn.pipeline import make_pipeline"
      ],
      "execution_count": 0,
      "outputs": []
    },
    {
      "cell_type": "markdown",
      "metadata": {
        "id": "JA7IuTKTPuJc",
        "colab_type": "text"
      },
      "source": [
        "## Linear Regression, Quadratic Discriminant Analysis and K Nearest Neighbor (KNN)"
      ]
    },
    {
      "cell_type": "code",
      "metadata": {
        "id": "H14sJm8yP2Bh",
        "colab_type": "code",
        "colab": {
          "base_uri": "https://localhost:8080/",
          "height": 68
        },
        "outputId": "4cf99e98-0128-47f1-a1de-22756b573af1"
      },
      "source": [
        "from sklearn.model_selection import train_test_split\n",
        "from sklearn.pipeline import make_pipeline\n",
        "\n",
        "X_train, X_test, y_train, y_test = train_test_split(X,y, test_size=0.2, random_state=42)\n",
        "\n",
        "# Linear regression\n",
        "clfreg = LinearRegression(n_jobs=-1)\n",
        "clfreg.fit(X_train, y_train)\n",
        "# Quadratic Regression 2\n",
        "clfpoly2 = make_pipeline(PolynomialFeatures(2), Ridge())\n",
        "clfpoly2.fit(X_train, y_train)\n",
        "\n",
        "# Quadratic Regression 3\n",
        "clfpoly3 = make_pipeline(PolynomialFeatures(3), Ridge())\n",
        "clfpoly3.fit(X_train, y_train)\n",
        "\n",
        "# KNN Regression\n",
        "clfknn = KNeighborsRegressor(n_neighbors=2)\n",
        "clfknn.fit(X_train, y_train)"
      ],
      "execution_count": 8,
      "outputs": [
        {
          "output_type": "execute_result",
          "data": {
            "text/plain": [
              "KNeighborsRegressor(algorithm='auto', leaf_size=30, metric='minkowski',\n",
              "                    metric_params=None, n_jobs=None, n_neighbors=2, p=2,\n",
              "                    weights='uniform')"
            ]
          },
          "metadata": {
            "tags": []
          },
          "execution_count": 8
        }
      ]
    },
    {
      "cell_type": "markdown",
      "metadata": {
        "id": "_im1CuU3QQ0F",
        "colab_type": "text"
      },
      "source": [
        "### Evaluation\n",
        "\n",
        "A simple quick and dirty way to evaluate is to use the score method in each trained model. The score method finds the mean accuracy of self.predict(X) with y of the test data set"
      ]
    },
    {
      "cell_type": "code",
      "metadata": {
        "id": "NUAlGkgeP9sq",
        "colab_type": "code",
        "colab": {}
      },
      "source": [
        "confidencereg = clfreg.score(X_test, y_test)\n",
        "confidencepoly2 = clfpoly2.score(X_test,y_test)\n",
        "confidencepoly3 = clfpoly3.score(X_test,y_test)\n",
        "confidenceknn = clfknn.score(X_test, y_test)"
      ],
      "execution_count": 0,
      "outputs": []
    },
    {
      "cell_type": "code",
      "metadata": {
        "id": "P4zJ5O8zQf0g",
        "colab_type": "code",
        "colab": {
          "base_uri": "https://localhost:8080/",
          "height": 102
        },
        "outputId": "401a8878-e3a7-4fc5-82d6-c4287edbb1f7"
      },
      "source": [
        "print(\"# results\")\n",
        "print('The linear regression confidence is {}'.format(confidencereg))\n",
        "print('The quadratic regression 2 confidence is {}'.format(confidencepoly2))\n",
        "print('The quadratic regression 3 confidence is {}'.format(confidencepoly3))\n",
        "print('The KNN confidence is {}'.format(confidenceknn))"
      ],
      "execution_count": 10,
      "outputs": [
        {
          "output_type": "stream",
          "text": [
            "# results\n",
            "The linear regression confidence is 0.968170951089318\n",
            "The quadratic regression 2 confidence is 0.9695054489689172\n",
            "The quadratic regression 3 confidence is 0.9667918921235107\n",
            "The KNN confidence is 0.9511997812126545\n"
          ],
          "name": "stdout"
        }
      ]
    },
    {
      "cell_type": "markdown",
      "metadata": {
        "id": "ZYFJ43R5QqXl",
        "colab_type": "text"
      },
      "source": [
        "Accuracy score (>0.95) for the above models is almost the same\n",
        "\n",
        "Lets go ahead and do some forecasting"
      ]
    },
    {
      "cell_type": "code",
      "metadata": {
        "id": "qb-0NhAmQpiC",
        "colab_type": "code",
        "colab": {
          "base_uri": "https://localhost:8080/",
          "height": 136
        },
        "outputId": "a36db2c9-3d7a-4b40-cb0e-354238474c88"
      },
      "source": [
        "forecast_set = clfreg.predict(X_lately)\n",
        "dfreg['Forecast'] = np.nan\n",
        "forecast_set"
      ],
      "execution_count": 11,
      "outputs": [
        {
          "output_type": "execute_result",
          "data": {
            "text/plain": [
              "array([202.07508431, 201.6317646 , 209.74427557, 203.42540148,\n",
              "       202.82182717, 207.37844437, 211.15600079, 211.10137059,\n",
              "       213.4414921 , 213.33309714, 203.32715399, 207.32176455,\n",
              "       205.16306762, 206.74273978, 209.97102513, 209.70742421,\n",
              "       206.76277317, 210.17964071, 214.0379973 , 214.10111375,\n",
              "       214.93428015, 217.29104516, 223.6877574 , 223.34591716,\n",
              "       218.90457938])"
            ]
          },
          "metadata": {
            "tags": []
          },
          "execution_count": 11
        }
      ]
    },
    {
      "cell_type": "markdown",
      "metadata": {
        "id": "WsZgsokMRNat",
        "colab_type": "text"
      },
      "source": [
        "## Plotting the Prediction"
      ]
    },
    {
      "cell_type": "code",
      "metadata": {
        "id": "mjxpersORKVi",
        "colab_type": "code",
        "colab": {
          "base_uri": "https://localhost:8080/",
          "height": 431
        },
        "outputId": "7177c336-7f8d-4489-ed07-6a1c9ba6aa35"
      },
      "source": [
        "last_date = dfreg.iloc[-1].name\n",
        "last_unix = last_date\n",
        "next_unix = last_unix + datetime.timedelta(days=1)\n",
        "\n",
        "for i in forecast_set:\n",
        "    next_date = next_unix\n",
        "    next_unix += datetime.timedelta(days=1)\n",
        "    dfreg.loc[next_date] = [np.nan for _ in range(len(dfreg.columns)-1)]+[i]\n",
        "dfreg['Adj Close'].tail(500).plot()\n",
        "dfreg['Forecast'].tail(500).plot()\n",
        "plt.legend(loc=4)\n",
        "plt.xlabel('Date')\n",
        "plt.ylabel('Price')\n",
        "plt.show()"
      ],
      "execution_count": 12,
      "outputs": [
        {
          "output_type": "display_data",
          "data": {
            "image/png": "[encoded data removed]",
            "text/plain": [
              "<Figure size 576x504 with 1 Axes>"
            ]
          },
          "metadata": {
            "tags": []
          }
        }
      ]
    }
  ]
}